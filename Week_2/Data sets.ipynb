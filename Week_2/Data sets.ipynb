{
 "cells": [
  {
   "cell_type": "markdown",
   "id": "24ab70d4",
   "metadata": {},
   "source": [
    "# Dataset\n",
    "\n",
    "* Dataset generally contain huge information which our model will be using as input. It is contains \n",
    "  collection of data which is represented in the form of rows and columns.\n",
    "* These Dataset are stored in data files namely- CSV, Excel, OpenOffice Calc, etc of which CSV \n",
    "  files are most commly used. \n",
    "* The columns present in the Data set represent any variable present in it. Variables can be any \n",
    "  physical quantity, dimensions, characteristics, etc. A variable is any characteristics, number, or\n",
    "  quantity that can be measured or counted.\n",
    "* By using some function we can get statistical data, different types of graphs such as histogram, pie \n",
    "  charts, scatter charts, etc.\n",
    "  \n",
    "### Variables in Dataset\n",
    "\n",
    "1. **Input variables-** Input variables are the features or attributes present in the data set and \n",
    "   represent a independent variable. Input variables can be continuous, binary or categorical.\n",
    "2. **Target variables-** Target variables also can be continuous, binary or categorical. The target \n",
    "   variable of a dataset is the feature of a dataset about which one wants to gain more information\n",
    "   and deeper understanding. These are dependent variables in Dataset. In the case of regression \n",
    "   models, the target is real valued, whereas in a classification model, the target is binary or \n",
    "   multivalued.\n",
    "3. **Unused variables-** Unused variables donot provide any information to our model. These are neither\n",
    "   Input variables nor Target variables. Usually the variables which donot give any information to model\n",
    "   are set to Unused variable. Variables which are constant can be set to Unused variables.\n",
    "   \n",
    "### Samples in Dataset\n",
    "\n",
    "The rows persent in the data table are called as Samples. Samples are used to train, test our model \n",
    "and select the best performance model. There are four type of samples.\n",
    "\n",
    "1. **Training samples-** Working in a model we try different logics and settings and create new models.\n",
    "   To train these models we need some samples, which is called as Training samples. This can also be \n",
    "   used to compare the performances of different models based on the outputs.\n",
    "2. **Selection samples-** We need to select the best woking model of the various models which we might \n",
    "   have created. Selection samples are used to select one of the best performing model.\n",
    "3. **Testing samples-** These samples are used to check that the model which we have made and trained \n",
    "   using Training samples is actually working or not.\n",
    "4. **Unused samples-** Some models might result in malfunctioning of the model, such samples are called\n",
    "   Unused samples. Repeated samples can be considered as Unused samples.\n",
    "   \n"
   ]
  },
  {
   "cell_type": "code",
   "execution_count": null,
   "id": "5a17dd53",
   "metadata": {},
   "outputs": [],
   "source": []
  }
 ],
 "metadata": {
  "kernelspec": {
   "display_name": "Python 3 (ipykernel)",
   "language": "python",
   "name": "python3"
  },
  "language_info": {
   "codemirror_mode": {
    "name": "ipython",
    "version": 3
   },
   "file_extension": ".py",
   "mimetype": "text/x-python",
   "name": "python",
   "nbconvert_exporter": "python",
   "pygments_lexer": "ipython3",
   "version": "3.9.12"
  }
 },
 "nbformat": 4,
 "nbformat_minor": 5
}
