{
 "cells": [
  {
   "cell_type": "code",
   "execution_count": 1,
   "id": "e7f6d0f3",
   "metadata": {},
   "outputs": [],
   "source": [
    "import numpy as np\n",
    "from matplotlib import pyplot as plt\n",
    "%matplotlib inline"
   ]
  },
  {
   "cell_type": "code",
   "execution_count": 2,
   "id": "0f177c5b",
   "metadata": {},
   "outputs": [],
   "source": [
    "#training inputs array with bias 1\n",
    "traininginputs = np.array([[2, 5, 3, 1],\n",
    "                           [4, 3, 2, 1],\n",
    "                           [6, 6, 5, 1],\n",
    "                           [3, 4, 5, 1],\n",
    "                           [5, 2, 3, 1]])\n",
    "\n",
    "#initialize weights\n",
    "weights = np.zeros(4)\n",
    "\n",
    "#training outputs\n",
    "trainingoutputs = np.array([-1,-1,1,1,1])"
   ]
  },
  {
   "cell_type": "code",
   "execution_count": 3,
   "id": "1e188429",
   "metadata": {},
   "outputs": [],
   "source": [
    "def sgdplot(traininginputs, trainingoutputs):\n",
    "#used the plot to know what was happening and if the error was gone\n",
    "    weights = np.zeros(len(traininginputs[0]))\n",
    "    \n",
    "    errors = []\n",
    "\n",
    "    for t in range(28):\n",
    "        error = 0\n",
    "        for i, x in enumerate(traininginputs):\n",
    "            if (np.dot(traininginputs[i], weights)*trainingoutputs[i]) <= 0: #if the input output condition is not satisfied\n",
    "                error += (np.dot(traininginputs[i], weights)*trainingoutputs[i]) #we find the total error\n",
    "                weights = weights + 1*traininginputs[i]*trainingoutputs[i] #training the function to give the desired weights\n",
    "        errors.append(error*-1) #used this for making the graph to study\n",
    "        \n",
    "    plt.plot(errors)\n",
    "    plt.xlabel('Iteration')\n",
    "    plt.ylabel('Total Error')\n",
    "    \n",
    "    print(weights)\n",
    "    return weights"
   ]
  },
  {
   "cell_type": "code",
   "execution_count": 4,
   "id": "0a2f2233",
   "metadata": {},
   "outputs": [
    {
     "name": "stdout",
     "output_type": "stream",
     "text": [
      "[  8. -17.  16. -17.]\n"
     ]
    },
    {
     "data": {
      "image/png": "[encoded data removed]",
      "text/plain": [
       "<Figure size 432x288 with 1 Axes>"
      ]
     },
     "metadata": {
      "needs_background": "light"
     },
     "output_type": "display_data"
    }
   ],
   "source": [
    "weights = sgdplot(traininginputs, trainingoutputs)"
   ]
  },
  {
   "cell_type": "markdown",
   "id": "3ee552ae",
   "metadata": {},
   "source": [
    "gets 0 error at 27th iteration"
   ]
  },
  {
   "cell_type": "code",
   "execution_count": 6,
   "id": "ce44fdd6",
   "metadata": {},
   "outputs": [
    {
     "name": "stdout",
     "output_type": "stream",
     "text": [
      "0\n",
      "0\n",
      "0\n",
      "0\n"
     ]
    }
   ],
   "source": [
    "\n",
    "Input=[]\n",
    "for i in range(3):\n",
    "    ele=int(input())\n",
    "    Input.append(ele)\n",
    "    \n",
    "Input.append(1)\n",
    "if np.dot(Input,weights)>0:\n",
    "    print('1')\n",
    "else:\n",
    "    print('0')\n",
    "    \n",
    "    "
   ]
  },
  {
   "cell_type": "markdown",
   "id": "365770f8",
   "metadata": {},
   "source": [
    "Made the perceptron\n",
    "##### by Soham Bharambe"
   ]
  }
 ],
 "metadata": {
  "kernelspec": {
   "display_name": "Python 3 (ipykernel)",
   "language": "python",
   "name": "python3"
  },
  "language_info": {
   "codemirror_mode": {
    "name": "ipython",
    "version": 3
   },
   "file_extension": ".py",
   "mimetype": "text/x-python",
   "name": "python",
   "nbconvert_exporter": "python",
   "pygments_lexer": "ipython3",
   "version": "3.9.12"
  }
 },
 "nbformat": 4,
 "nbformat_minor": 5
}
