{
 "cells": [
  {
   "cell_type": "markdown",
   "id": "cbb1bb4e",
   "metadata": {},
   "source": [
    "recurrent neural network using tensorflow"
   ]
  },
  {
   "cell_type": "code",
   "execution_count": 4,
   "id": "2a6c314d",
   "metadata": {},
   "outputs": [],
   "source": [
    "import random\n",
    "import math\n",
    "from sklearn.datasets import fetch_openml\n",
    "import tensorflow as tf\n",
    "import numpy as np\n",
    "from sklearn.model_selection import train_test_split "
   ]
  },
  {
   "cell_type": "code",
   "execution_count": 5,
   "id": "2ba11d22",
   "metadata": {},
   "outputs": [],
   "source": [
    "x, y = fetch_openml('mnist_784', version=1, return_X_y=True) #importing data\n",
    "x = (x/255).astype('float32')\n",
    "y = tf.keras.utils.to_categorical(y)\n",
    "x_train,x_test,y_train,y_test=train_test_split(x, y, test_size=0.15, random_state=38)"
   ]
  },
  {
   "cell_type": "code",
   "execution_count": 6,
   "id": "fc50013d",
   "metadata": {},
   "outputs": [
    {
     "name": "stdout",
     "output_type": "stream",
     "text": [
      "(59500, 784) (59500, 10) (10500, 784) (10500, 10)\n"
     ]
    }
   ],
   "source": [
    "print(x_train.shape, y_train.shape, x_test.shape, y_test.shape)"
   ]
  },
  {
   "cell_type": "code",
   "execution_count": 7,
   "id": "4164b3f0",
   "metadata": {},
   "outputs": [],
   "source": [
    "from keras.models import Sequential\n",
    "from keras.layers import Dense\n",
    "from keras.layers import LSTM\n",
    "from keras.layers import Dropout"
   ]
  },
  {
   "cell_type": "code",
   "execution_count": 8,
   "id": "4b8b9c41",
   "metadata": {},
   "outputs": [],
   "source": [
    "regressor=Sequential() #initialising model"
   ]
  },
  {
   "cell_type": "markdown",
   "id": "960fe302",
   "metadata": {},
   "source": [
    "adding layers"
   ]
  },
  {
   "cell_type": "code",
   "execution_count": 9,
   "id": "0164cfd3",
   "metadata": {},
   "outputs": [],
   "source": [
    "regressor.add(LSTM(units=10, return_sequences=True, input_shape=(x_train.shape[1],1)))\n",
    "regressor.add(Dropout(0.3))"
   ]
  },
  {
   "cell_type": "code",
   "execution_count": 10,
   "id": "a143977f",
   "metadata": {},
   "outputs": [],
   "source": [
    "regressor.add(LSTM(units=10, return_sequences=True))\n",
    "regressor.add(Dropout(0.3))"
   ]
  },
  {
   "cell_type": "code",
   "execution_count": 11,
   "id": "26554c24",
   "metadata": {},
   "outputs": [],
   "source": [
    "regressor.add(LSTM(units=10, return_sequences=True))\n",
    "regressor.add(Dropout(0.3))"
   ]
  },
  {
   "cell_type": "code",
   "execution_count": 12,
   "id": "6671280a",
   "metadata": {},
   "outputs": [],
   "source": [
    "regressor.add(LSTM(units=4))\n",
    "regressor.add(Dropout(0.3))"
   ]
  },
  {
   "cell_type": "code",
   "execution_count": 13,
   "id": "779e409d",
   "metadata": {},
   "outputs": [],
   "source": [
    "regressor.add(Dense(units=1))"
   ]
  },
  {
   "cell_type": "code",
   "execution_count": 14,
   "id": "9dfff5a8",
   "metadata": {},
   "outputs": [],
   "source": [
    "regressor.compile(optimizer='adam', loss='mean_squared_error', metrics=['accuracy'])"
   ]
  },
  {
   "cell_type": "markdown",
   "id": "e8c99895",
   "metadata": {},
   "source": [
    "fitting the rnn for training data"
   ]
  },
  {
   "cell_type": "code",
   "execution_count": 15,
   "id": "a48332bf",
   "metadata": {},
   "outputs": [
    {
     "name": "stdout",
     "output_type": "stream",
     "text": [
      "1860/1860 [==============================] - 1396s 746ms/step - loss: 0.0901 - accuracy: 0.9000\n"
     ]
    },
    {
     "data": {
      "text/plain": [
       "<keras.callbacks.History at 0x2279e79ad00>"
      ]
     },
     "execution_count": 15,
     "metadata": {},
     "output_type": "execute_result"
    }
   ],
   "source": [
    "regressor.fit(x_train, y_train, epochs=1)"
   ]
  },
  {
   "cell_type": "code",
   "execution_count": 16,
   "id": "6d4878f0",
   "metadata": {},
   "outputs": [
    {
     "name": "stdout",
     "output_type": "stream",
     "text": [
      "329/329 [==============================] - 74s 219ms/step - loss: 0.0900 - accuracy: 0.9000\n",
      "0.09000012278556824\n",
      "0.8999969959259033\n"
     ]
    }
   ],
   "source": [
    "#checking the accuracy with the help of testing data\n",
    "loss, acc = regressor.evaluate(x_test, y_test)\n",
    "print(loss)\n",
    "print(acc)"
   ]
  },
  {
   "cell_type": "markdown",
   "id": "ddcbf7b4",
   "metadata": {},
   "source": [
    "an accuracy of almost 0.9 was obtained"
   ]
  }
 ],
 "metadata": {
  "kernelspec": {
   "display_name": "Python 3 (ipykernel)",
   "language": "python",
   "name": "python3"
  },
  "language_info": {
   "codemirror_mode": {
    "name": "ipython",
    "version": 3
   },
   "file_extension": ".py",
   "mimetype": "text/x-python",
   "name": "python",
   "nbconvert_exporter": "python",
   "pygments_lexer": "ipython3",
   "version": "3.9.12"
  }
 },
 "nbformat": 4,
 "nbformat_minor": 5
}
