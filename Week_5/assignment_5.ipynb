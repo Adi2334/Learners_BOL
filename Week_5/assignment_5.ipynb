{
 "cells": [
  {
   "cell_type": "code",
   "execution_count": 97,
   "id": "bcb775c8",
   "metadata": {},
   "outputs": [],
   "source": [
    "import tensorflow as tf\n",
    "from tensorflow.keras import datasets, layers, models"
   ]
  },
  {
   "cell_type": "code",
   "execution_count": 98,
   "id": "9815fe42",
   "metadata": {},
   "outputs": [],
   "source": [
    "(x_train, y_train), (x_test, y_test) = tf.keras.datasets.mnist.load_data() #mnist dataset importing\n",
    "x_train, x_test = x_train / 255, x_test / 255 #Normalize pixel values to be between 0 and 1\n",
    "x_train=x_train.reshape(60000,28,28,1)\n",
    "x_test=x_test.reshape(10000,28,28,1)"
   ]
  },
  {
   "cell_type": "code",
   "execution_count": 99,
   "id": "6b81970a",
   "metadata": {},
   "outputs": [],
   "source": [
    "model = models.Sequential() #making of the model\n",
    "model.add(layers.Conv2D(32, (3, 3), activation='relu', input_shape=(28, 28, 1)))\n",
    "model.add(layers.MaxPooling2D((2, 2)))\n",
    "model.add(layers.Conv2D(128, (3, 3), activation='relu'))\n",
    "model.add(layers.MaxPooling2D((2, 2)))\n",
    "model.add(layers.Conv2D(64, (3, 3), activation='relu'))\n",
    "model.add(layers.Flatten())\n",
    "model.add(layers.Dense(32, activation='relu'))\n",
    "model.add(layers.Dense(128, activation='relu'))\n",
    "model.add(layers.Dense(32, activation='relu'))\n",
    "model.add(layers.Dense(10))"
   ]
  },
  {
   "cell_type": "code",
   "execution_count": 100,
   "id": "11e42969",
   "metadata": {},
   "outputs": [
    {
     "name": "stdout",
     "output_type": "stream",
     "text": [
      "Model: \"sequential_11\"\n",
      "_________________________________________________________________\n",
      " Layer (type)                Output Shape              Param #   \n",
      "=================================================================\n",
      " conv2d_31 (Conv2D)          (None, 26, 26, 32)        320       \n",
      "                                                                 \n",
      " max_pooling2d_20 (MaxPoolin  (None, 13, 13, 32)       0         \n",
      " g2D)                                                            \n",
      "                                                                 \n",
      " conv2d_32 (Conv2D)          (None, 11, 11, 128)       36992     \n",
      "                                                                 \n",
      " max_pooling2d_21 (MaxPoolin  (None, 5, 5, 128)        0         \n",
      " g2D)                                                            \n",
      "                                                                 \n",
      " conv2d_33 (Conv2D)          (None, 3, 3, 64)          73792     \n",
      "                                                                 \n",
      " flatten_10 (Flatten)        (None, 576)               0         \n",
      "                                                                 \n",
      " dense_40 (Dense)            (None, 32)                18464     \n",
      "                                                                 \n",
      " dense_41 (Dense)            (None, 128)               4224      \n",
      "                                                                 \n",
      " dense_42 (Dense)            (None, 32)                4128      \n",
      "                                                                 \n",
      " dense_43 (Dense)            (None, 10)                330       \n",
      "                                                                 \n",
      "=================================================================\n",
      "Total params: 138,250\n",
      "Trainable params: 138,250\n",
      "Non-trainable params: 0\n",
      "_________________________________________________________________\n"
     ]
    }
   ],
   "source": [
    "model.summary()"
   ]
  },
  {
   "cell_type": "code",
   "execution_count": 101,
   "id": "d50ea5ea",
   "metadata": {},
   "outputs": [
    {
     "name": "stdout",
     "output_type": "stream",
     "text": [
      "Epoch 1/10\n",
      "1875/1875 [==============================] - 60s 31ms/step - loss: 0.1930 - accuracy: 0.9399 - val_loss: 0.0586 - val_accuracy: 0.9804\n",
      "Epoch 2/10\n",
      "1875/1875 [==============================] - 57s 31ms/step - loss: 0.0571 - accuracy: 0.9830 - val_loss: 0.0407 - val_accuracy: 0.9871\n",
      "Epoch 3/10\n",
      "1875/1875 [==============================] - 59s 31ms/step - loss: 0.0404 - accuracy: 0.9874 - val_loss: 0.0450 - val_accuracy: 0.9849\n",
      "Epoch 4/10\n",
      "1875/1875 [==============================] - 57s 31ms/step - loss: 0.0315 - accuracy: 0.9904 - val_loss: 0.0329 - val_accuracy: 0.9905\n",
      "Epoch 5/10\n",
      "1875/1875 [==============================] - 57s 30ms/step - loss: 0.0249 - accuracy: 0.9927 - val_loss: 0.0403 - val_accuracy: 0.9882\n",
      "Epoch 6/10\n",
      "1875/1875 [==============================] - 57s 30ms/step - loss: 0.0208 - accuracy: 0.9937 - val_loss: 0.0278 - val_accuracy: 0.9909\n",
      "Epoch 7/10\n",
      "1875/1875 [==============================] - 56s 30ms/step - loss: 0.0184 - accuracy: 0.9945 - val_loss: 0.0280 - val_accuracy: 0.9919\n",
      "Epoch 8/10\n",
      "1875/1875 [==============================] - 57s 30ms/step - loss: 0.0149 - accuracy: 0.9956 - val_loss: 0.0294 - val_accuracy: 0.9912\n",
      "Epoch 9/10\n",
      "1875/1875 [==============================] - 56s 30ms/step - loss: 0.0128 - accuracy: 0.9963 - val_loss: 0.0442 - val_accuracy: 0.9889\n",
      "Epoch 10/10\n",
      "1875/1875 [==============================] - 56s 30ms/step - loss: 0.0121 - accuracy: 0.9960 - val_loss: 0.0293 - val_accuracy: 0.9929\n"
     ]
    }
   ],
   "source": [
    "model.compile(optimizer='adam',\n",
    "              loss=tf.keras.losses.SparseCategoricalCrossentropy(from_logits=True),\n",
    "              metrics=['accuracy'])\n",
    "\n",
    "history = model.fit(x_train, y_train, epochs=10, \n",
    "                    validation_data=(x_test, y_test))"
   ]
  },
  {
   "cell_type": "markdown",
   "id": "cdfe6870",
   "metadata": {},
   "source": [
    "cnn with high accuracy made for mnist dataset using tensorflow "
   ]
  }
 ],
 "metadata": {
  "kernelspec": {
   "display_name": "Python 3 (ipykernel)",
   "language": "python",
   "name": "python3"
  },
  "language_info": {
   "codemirror_mode": {
    "name": "ipython",
    "version": 3
   },
   "file_extension": ".py",
   "mimetype": "text/x-python",
   "name": "python",
   "nbconvert_exporter": "python",
   "pygments_lexer": "ipython3",
   "version": "3.9.12"
  }
 },
 "nbformat": 4,
 "nbformat_minor": 5
}
